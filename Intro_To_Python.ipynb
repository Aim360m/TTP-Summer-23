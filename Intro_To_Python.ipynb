{
  "nbformat": 4,
  "nbformat_minor": 0,
  "metadata": {
    "colab": {
      "provenance": [],
      "collapsed_sections": [
        "rfNmhlclIoml",
        "comUqxCPKC8Y",
        "hnR7fFYGNlnO"
      ],
      "toc_visible": true,
      "authorship_tag": "ABX9TyOB6G9PR1scK9O7LdAO38Ie",
      "include_colab_link": true
    },
    "kernelspec": {
      "name": "python3",
      "display_name": "Python 3"
    },
    "language_info": {
      "name": "python"
    }
  },
  "cells": [
    {
      "cell_type": "markdown",
      "metadata": {
        "id": "view-in-github",
        "colab_type": "text"
      },
      "source": [
        "<a href=\"https://colab.research.google.com/github/Aim360m/TTP-Summer-23/blob/main/Intro_To_Python.ipynb\" target=\"_parent\"><img src=\"https://colab.research.google.com/assets/colab-badge.svg\" alt=\"Open In Colab\"/></a>"
      ]
    },
    {
      "cell_type": "markdown",
      "source": [
        "#Python Basics"
      ],
      "metadata": {
        "id": "YBJeoT1kHhru"
      }
    },
    {
      "cell_type": "markdown",
      "source": [
        "code to text is ctr+m+m"
      ],
      "metadata": {
        "id": "tZNd1n2KIeWA"
      }
    },
    {
      "cell_type": "markdown",
      "source": [
        "##Strings & the print() function\n"
      ],
      "metadata": {
        "id": "rfNmhlclIoml"
      }
    },
    {
      "cell_type": "code",
      "source": [
        "print(\"Hello World\")\n",
        "#This line the print method is printing the words \"Hello World\" to the User"
      ],
      "metadata": {
        "colab": {
          "base_uri": "https://localhost:8080/"
        },
        "id": "ZeTEFCuVI0iu",
        "outputId": "1b0c5af0-d54f-4a44-e310-3e72582a837d"
      },
      "execution_count": 50,
      "outputs": [
        {
          "output_type": "stream",
          "name": "stdout",
          "text": [
            "Hello World\n"
          ]
        }
      ]
    },
    {
      "cell_type": "code",
      "source": [
        "print(\"There are two types of slashes: \\\\ and /\")\n",
        "#This line is printing the difference between a \"\\\" and a \"/\". The main differnce is the \"\\\\\" is a shortcut for \"\\\", which is why it only prints one '\\' instead of two. the '/' is not a shortcut so it does not require a \"//\""
      ],
      "metadata": {
        "colab": {
          "base_uri": "https://localhost:8080/"
        },
        "id": "ZGBva9PQI_an",
        "outputId": "787f1930-86e9-49cf-e908-35f530eacdf8"
      },
      "execution_count": 52,
      "outputs": [
        {
          "output_type": "stream",
          "name": "stdout",
          "text": [
            "There are two types of slashes: \\ and /\n"
          ]
        }
      ]
    },
    {
      "cell_type": "code",
      "source": [
        "print(\"\"\"\n",
        "  This is a tabbed line\n",
        "This is a regular line\"\"\")\n",
        "#This print method shows how to make a multi-line print statement"
      ],
      "metadata": {
        "colab": {
          "base_uri": "https://localhost:8080/"
        },
        "id": "sl9KiRYmJT2L",
        "outputId": "f18b4916-8911-4a66-e00b-bfc4a95c4de4"
      },
      "execution_count": 54,
      "outputs": [
        {
          "output_type": "stream",
          "name": "stdout",
          "text": [
            "\n",
            "  This is a tabbed line\n",
            "This is a regular line\n"
          ]
        }
      ]
    },
    {
      "cell_type": "code",
      "source": [
        "print(\"\\n\\tThis is a tabbed line\\nThis is a regular line\")\n",
        "#This print method shows how to create a multi-line print method using \"\\\" shortcuts. \"\\t\" is a sc for tab, \"\\n\" is a sc for new line."
      ],
      "metadata": {
        "colab": {
          "base_uri": "https://localhost:8080/"
        },
        "id": "UN1Xet_5JrWs",
        "outputId": "29a9477a-3885-4c33-ee5b-b759a166bca0"
      },
      "execution_count": 55,
      "outputs": [
        {
          "output_type": "stream",
          "name": "stdout",
          "text": [
            "\n",
            "\tThis is a tabbed line\n",
            "This is a regular line\n"
          ]
        }
      ]
    },
    {
      "cell_type": "code",
      "source": [
        "print(\"first name\" + \" last name\")\n",
        "#This print method shows what happens when you combine two sentences w/ a '+'. The '+' makes a seperation but adds no spaces."
      ],
      "metadata": {
        "colab": {
          "base_uri": "https://localhost:8080/"
        },
        "id": "iPmerE_kJ2Vm",
        "outputId": "acda1760-652b-4739-a0a5-a6168444490a"
      },
      "execution_count": 1,
      "outputs": [
        {
          "output_type": "stream",
          "name": "stdout",
          "text": [
            "first name last name\n"
          ]
        }
      ]
    },
    {
      "cell_type": "markdown",
      "source": [
        "##Variables"
      ],
      "metadata": {
        "id": "comUqxCPKC8Y"
      }
    },
    {
      "cell_type": "markdown",
      "source": [
        "Everything in Python is an obj"
      ],
      "metadata": {
        "id": "WGL-_TiAKvzS"
      }
    },
    {
      "cell_type": "code",
      "source": [
        "dogs = 3\n",
        "cats = \"Many fluffy cats\"\n",
        "#The variables dogs and cats are declared in the above script. dogs is an int variable and cats is a string with the statement \"Many Fluffy cats\" stored."
      ],
      "metadata": {
        "id": "onDvjEeSLNHs"
      },
      "execution_count": 2,
      "outputs": []
    },
    {
      "cell_type": "code",
      "source": [
        "dogs\n",
        "#Writing out a variable shows what is stored in said variable. dogs stores 3, thus 3 is output when referenced"
      ],
      "metadata": {
        "colab": {
          "base_uri": "https://localhost:8080/"
        },
        "id": "w8qUR5Z1MLLa",
        "outputId": "e3504830-db79-4499-d558-579fb6100bfb"
      },
      "execution_count": 3,
      "outputs": [
        {
          "output_type": "execute_result",
          "data": {
            "text/plain": [
              "3"
            ]
          },
          "metadata": {},
          "execution_count": 3
        }
      ]
    },
    {
      "cell_type": "code",
      "source": [
        "cats\n",
        "#Same as last but \"Many fluffy cats\" is the output"
      ],
      "metadata": {
        "colab": {
          "base_uri": "https://localhost:8080/",
          "height": 35
        },
        "id": "IylltCkEMNsi",
        "outputId": "d31bcddc-f04a-404f-8465-9b040691ca1d"
      },
      "execution_count": 4,
      "outputs": [
        {
          "output_type": "execute_result",
          "data": {
            "text/plain": [
              "'Many fluffy cats'"
            ],
            "application/vnd.google.colaboratory.intrinsic+json": {
              "type": "string"
            }
          },
          "metadata": {},
          "execution_count": 4
        }
      ]
    },
    {
      "cell_type": "code",
      "source": [
        "type(dogs)\n",
        "#type() checks the var type, in this case dogs is an int"
      ],
      "metadata": {
        "colab": {
          "base_uri": "https://localhost:8080/"
        },
        "id": "Sf1sGJT6MO2d",
        "outputId": "9b163f4b-b547-485f-ffcf-2f851d83ee9f"
      },
      "execution_count": 5,
      "outputs": [
        {
          "output_type": "execute_result",
          "data": {
            "text/plain": [
              "int"
            ]
          },
          "metadata": {},
          "execution_count": 5
        }
      ]
    },
    {
      "cell_type": "code",
      "source": [
        "type(cats)\n",
        "#in this case cats is a str(string)"
      ],
      "metadata": {
        "colab": {
          "base_uri": "https://localhost:8080/"
        },
        "id": "kLiyorPKMSLE",
        "outputId": "541f44b1-a601-4490-be1f-847032ae9359"
      },
      "execution_count": 6,
      "outputs": [
        {
          "output_type": "execute_result",
          "data": {
            "text/plain": [
              "str"
            ]
          },
          "metadata": {},
          "execution_count": 6
        }
      ]
    },
    {
      "cell_type": "code",
      "source": [
        "print(dogs)\n",
        "#this print method prints the value stored in the variable"
      ],
      "metadata": {
        "colab": {
          "base_uri": "https://localhost:8080/"
        },
        "id": "oVvD6ZF7MWz8",
        "outputId": "27c454e5-8f09-42e4-bb86-2f73e5b8ccb3"
      },
      "execution_count": 7,
      "outputs": [
        {
          "output_type": "stream",
          "name": "stdout",
          "text": [
            "3\n"
          ]
        }
      ]
    },
    {
      "cell_type": "code",
      "source": [
        "hi=\"hello \"\n",
        "name= \"John\"\n",
        "print(hi + name)\n",
        "#hi has \"hello \" stored in in the var, name has \"John\" stored. The print method shows that 2 var seperated by a '+' will still output their stored values. In this case for a statement."
      ],
      "metadata": {
        "colab": {
          "base_uri": "https://localhost:8080/"
        },
        "id": "Ehml0v-sMa3k",
        "outputId": "2d08fa42-6e38-45f7-d62e-3492222a52df"
      },
      "execution_count": 8,
      "outputs": [
        {
          "output_type": "stream",
          "name": "stdout",
          "text": [
            "hello John\n"
          ]
        }
      ]
    },
    {
      "cell_type": "code",
      "source": [
        "more_dogs= 5\n",
        "print(dogs+more_dogs)\n",
        "#In this case the '+' in the print method adds the 2 ints."
      ],
      "metadata": {
        "colab": {
          "base_uri": "https://localhost:8080/"
        },
        "id": "itdH_atrMpom",
        "outputId": "43fe85fb-814a-49af-e4ad-a2f36dd0c6b2"
      },
      "execution_count": 9,
      "outputs": [
        {
          "output_type": "stream",
          "name": "stdout",
          "text": [
            "8\n"
          ]
        }
      ]
    },
    {
      "cell_type": "code",
      "source": [
        "price=19.99\n",
        "amount=3\n",
        "#creates a float price equal to 19.99 and an int amount equal to 3."
      ],
      "metadata": {
        "id": "N0rNYNhgM0Ro"
      },
      "execution_count": 10,
      "outputs": []
    },
    {
      "cell_type": "code",
      "source": [
        "print(price+amount)\n",
        "#Shows a '+' will add 2 values even if they are dif numerical types"
      ],
      "metadata": {
        "colab": {
          "base_uri": "https://localhost:8080/"
        },
        "id": "6MVEwiuLM6aR",
        "outputId": "bac7925e-164d-4506-baa5-35b5c109425e"
      },
      "execution_count": 11,
      "outputs": [
        {
          "output_type": "stream",
          "name": "stdout",
          "text": [
            "22.99\n"
          ]
        }
      ]
    },
    {
      "cell_type": "markdown",
      "source": [
        "float takes priority "
      ],
      "metadata": {
        "id": "rk6ed8RcM-_h"
      }
    },
    {
      "cell_type": "code",
      "source": [
        "#variable re-assignment\n",
        "dogs=\"New value\"\n",
        "\n",
        "print(dogs)\n",
        "# dogs has had its value reassigned to a str and then printed newly stored info"
      ],
      "metadata": {
        "colab": {
          "base_uri": "https://localhost:8080/"
        },
        "id": "mxso_s3-NH1K",
        "outputId": "d93b52a5-f1d3-4e62-aa9f-147659538d2e"
      },
      "execution_count": 12,
      "outputs": [
        {
          "output_type": "stream",
          "name": "stdout",
          "text": [
            "New value\n"
          ]
        }
      ]
    },
    {
      "cell_type": "code",
      "source": [
        "cats,dogs,rabbits=2,5,\"cute\"\n",
        "\n",
        "print(dogs)\n",
        "#you can set or reassign multiple var in a single line"
      ],
      "metadata": {
        "colab": {
          "base_uri": "https://localhost:8080/"
        },
        "id": "KvbNUgB0NT6U",
        "outputId": "3a6d1117-d29d-4ac6-8101-b098fff635b7"
      },
      "execution_count": 13,
      "outputs": [
        {
          "output_type": "stream",
          "name": "stdout",
          "text": [
            "5\n"
          ]
        }
      ]
    },
    {
      "cell_type": "markdown",
      "source": [
        "##More Strings"
      ],
      "metadata": {
        "id": "gpTTZwYSNdUF"
      }
    },
    {
      "cell_type": "markdown",
      "source": [
        "###Index"
      ],
      "metadata": {
        "id": "hnR7fFYGNlnO"
      }
    },
    {
      "cell_type": "code",
      "source": [
        "greeting=\"Hello World!\""
      ],
      "metadata": {
        "id": "WQXho479NsCf"
      },
      "execution_count": 15,
      "outputs": []
    },
    {
      "cell_type": "code",
      "source": [
        "greeting"
      ],
      "metadata": {
        "colab": {
          "base_uri": "https://localhost:8080/",
          "height": 35
        },
        "id": "GY50WB2pNyUh",
        "outputId": "5f191d6b-c87c-41ce-dc83-7f64d12009ac"
      },
      "execution_count": 16,
      "outputs": [
        {
          "output_type": "execute_result",
          "data": {
            "text/plain": [
              "'Hello World!'"
            ],
            "application/vnd.google.colaboratory.intrinsic+json": {
              "type": "string"
            }
          },
          "metadata": {},
          "execution_count": 16
        }
      ]
    },
    {
      "cell_type": "code",
      "source": [
        "print(greeting[4])\n",
        "#greeting[4] checks for the letter at that position in the str. it starts at [0] so greeting[4] outputs 'o' bc [4] checks the fith char"
      ],
      "metadata": {
        "colab": {
          "base_uri": "https://localhost:8080/"
        },
        "id": "OyBONXqvNz7I",
        "outputId": "79c47bc0-6170-469a-e62b-486db4084fa5"
      },
      "execution_count": 17,
      "outputs": [
        {
          "output_type": "stream",
          "name": "stdout",
          "text": [
            "o\n"
          ]
        }
      ]
    },
    {
      "cell_type": "code",
      "source": [
        "sentence=\"This is my first time using Python, it seems easy, but will probably get harder.\""
      ],
      "metadata": {
        "id": "pIIHIRwXN8jC"
      },
      "execution_count": 18,
      "outputs": []
    },
    {
      "cell_type": "code",
      "source": [
        "print(sentence[3]+'\\n' +sentence[5]+'\\n' + sentence[19] )\n",
        "#can check mult char at a time. this method outputs the 4th 6th and 20th char in the str."
      ],
      "metadata": {
        "colab": {
          "base_uri": "https://localhost:8080/"
        },
        "id": "G5Ps4ZJ-OajV",
        "outputId": "597507c7-0abd-42eb-9162-1d39895a0988"
      },
      "execution_count": 27,
      "outputs": [
        {
          "output_type": "stream",
          "name": "stdout",
          "text": [
            "s\n",
            "i\n",
            "m\n"
          ]
        }
      ]
    },
    {
      "cell_type": "code",
      "source": [
        "len(greeting)\n",
        "#len() checks the length of a str"
      ],
      "metadata": {
        "colab": {
          "base_uri": "https://localhost:8080/"
        },
        "id": "GPke7u8ZOy84",
        "outputId": "942aeaf6-da73-4e3f-9d4c-e792f4bbf3c4"
      },
      "execution_count": 28,
      "outputs": [
        {
          "output_type": "execute_result",
          "data": {
            "text/plain": [
              "12"
            ]
          },
          "metadata": {},
          "execution_count": 28
        }
      ]
    },
    {
      "cell_type": "code",
      "source": [
        "greeting[11]\n",
        "# a way to find last char in an str is the amount of char-1"
      ],
      "metadata": {
        "colab": {
          "base_uri": "https://localhost:8080/",
          "height": 35
        },
        "id": "JiWoffmQPXB9",
        "outputId": "736b6c48-82e6-4447-8a20-f38c549cb21e"
      },
      "execution_count": 29,
      "outputs": [
        {
          "output_type": "execute_result",
          "data": {
            "text/plain": [
              "'!'"
            ],
            "application/vnd.google.colaboratory.intrinsic+json": {
              "type": "string"
            }
          },
          "metadata": {},
          "execution_count": 29
        }
      ]
    },
    {
      "cell_type": "code",
      "source": [
        "greeting[-1]\n",
        "#easier way is to find -1 bc that starts from the back of the str"
      ],
      "metadata": {
        "colab": {
          "base_uri": "https://localhost:8080/",
          "height": 35
        },
        "id": "H6HTBqtVPcT9",
        "outputId": "a77e92d8-3caa-4865-b5dc-11766c2701b6"
      },
      "execution_count": 30,
      "outputs": [
        {
          "output_type": "execute_result",
          "data": {
            "text/plain": [
              "'!'"
            ],
            "application/vnd.google.colaboratory.intrinsic+json": {
              "type": "string"
            }
          },
          "metadata": {},
          "execution_count": 30
        }
      ]
    },
    {
      "cell_type": "code",
      "source": [
        "sentence[-1]\n",
        "#another ex of starting from the back"
      ],
      "metadata": {
        "colab": {
          "base_uri": "https://localhost:8080/",
          "height": 35
        },
        "id": "JoByAXFnPgTn",
        "outputId": "b56d79ca-4303-406a-ad0d-e6cfab988825"
      },
      "execution_count": 31,
      "outputs": [
        {
          "output_type": "execute_result",
          "data": {
            "text/plain": [
              "'r'"
            ],
            "application/vnd.google.colaboratory.intrinsic+json": {
              "type": "string"
            }
          },
          "metadata": {},
          "execution_count": 31
        }
      ]
    },
    {
      "cell_type": "markdown",
      "source": [
        "###String Formating"
      ],
      "metadata": {
        "id": "0nYKeVx3Pofp"
      }
    },
    {
      "cell_type": "code",
      "source": [
        "price=59.99"
      ],
      "metadata": {
        "id": "XMel11EWPuNR"
      },
      "execution_count": 32,
      "outputs": []
    },
    {
      "cell_type": "code",
      "source": [
        "msg=\"Your product costs \"+str(price)+\" dollars\"\n",
        "#cant have multi type of var in a var. to get around this set the typing of price to a str w/ 'str()'"
      ],
      "metadata": {
        "id": "muTW_p3HP5EK"
      },
      "execution_count": 34,
      "outputs": []
    },
    {
      "cell_type": "code",
      "source": [
        "msg"
      ],
      "metadata": {
        "colab": {
          "base_uri": "https://localhost:8080/",
          "height": 35
        },
        "id": "yLQ72FYlQLMc",
        "outputId": "7e67cbc5-cb7e-415c-bbdb-0e6ea86407d4"
      },
      "execution_count": 35,
      "outputs": [
        {
          "output_type": "execute_result",
          "data": {
            "text/plain": [
              "'Your product costs 59.99 dollars'"
            ],
            "application/vnd.google.colaboratory.intrinsic+json": {
              "type": "string"
            }
          },
          "metadata": {},
          "execution_count": 35
        }
      ]
    },
    {
      "cell_type": "code",
      "source": [
        "Msg=\"Your product costs {} dollars\".format(price)\n",
        "#Using \"{}\" and .format() is an easier way to to insert another type of var into a str"
      ],
      "metadata": {
        "id": "fnokpF2IQYp1"
      },
      "execution_count": 36,
      "outputs": []
    },
    {
      "cell_type": "code",
      "source": [
        "Msg\n",
        "#the out of Msg w/ .format(price)"
      ],
      "metadata": {
        "colab": {
          "base_uri": "https://localhost:8080/",
          "height": 35
        },
        "id": "8_d2YegIQwOx",
        "outputId": "bffbef4a-ac49-4b64-ff8f-79bc96654e6e"
      },
      "execution_count": 37,
      "outputs": [
        {
          "output_type": "execute_result",
          "data": {
            "text/plain": [
              "'Your product costs 59.99 dollars'"
            ],
            "application/vnd.google.colaboratory.intrinsic+json": {
              "type": "string"
            }
          },
          "metadata": {},
          "execution_count": 37
        }
      ]
    },
    {
      "cell_type": "code",
      "source": [
        "amount=3\n",
        "total=amount*price\n",
        "#total multiplies price by amount and stores the value"
      ],
      "metadata": {
        "id": "LXYsm7IgQyYR"
      },
      "execution_count": 38,
      "outputs": []
    },
    {
      "cell_type": "code",
      "source": [
        "msg2=\"For {} products at the price of {}, the total will be: {}\"\n",
        "#msg2 is another way to format. you can place mult {} into str and set them later."
      ],
      "metadata": {
        "id": "4-nHuocIRW_X"
      },
      "execution_count": 39,
      "outputs": []
    },
    {
      "cell_type": "code",
      "source": [
        "print(msg2.format(amount,price,total))\n",
        "# this is the formating side of last. amount will be in the first {} through total in the last {}"
      ],
      "metadata": {
        "colab": {
          "base_uri": "https://localhost:8080/"
        },
        "id": "HJggodtDRlMQ",
        "outputId": "1b4bf0f5-3b9d-4c0e-f40b-f5575a6eaed5"
      },
      "execution_count": 40,
      "outputs": [
        {
          "output_type": "stream",
          "name": "stdout",
          "text": [
            "For 3 products at the price of 59.99, the total will be: 179.97\n"
          ]
        }
      ]
    },
    {
      "cell_type": "code",
      "source": [
        "msg3='For {2} products at a price of {0}, the total price is {1}'\n",
        "#By putting a number into the {} you say which var will be assigned where when formatting"
      ],
      "metadata": {
        "id": "nEwViBweRwLh"
      },
      "execution_count": 41,
      "outputs": []
    },
    {
      "cell_type": "code",
      "source": [
        "print(msg3.format(price,total,amount))\n",
        "#From last: price={0},amount={2}, and total={1}"
      ],
      "metadata": {
        "colab": {
          "base_uri": "https://localhost:8080/"
        },
        "id": "3IrqiP0vSp0Z",
        "outputId": "283f33ac-8d62-4e96-9441-9102a351d2ae"
      },
      "execution_count": 43,
      "outputs": [
        {
          "output_type": "stream",
          "name": "stdout",
          "text": [
            "For 3 products at a price of 59.99, the total price is 179.97\n"
          ]
        }
      ]
    },
    {
      "cell_type": "markdown",
      "source": [
        "####The 'f-string' method"
      ],
      "metadata": {
        "id": "T2UkXqHgS0fC"
      }
    },
    {
      "cell_type": "code",
      "source": [
        "price=19.99\n",
        "items=3"
      ],
      "metadata": {
        "id": "dkHOJFGXTAus"
      },
      "execution_count": 44,
      "outputs": []
    },
    {
      "cell_type": "code",
      "source": [
        "msg=f'This individual product is {price}'\n",
        "#the easiest way to format is by putting an str=f\"Statement Here{Var}\". It allows you to add mult var types w/o adjusting typing"
      ],
      "metadata": {
        "id": "oJA4c0YTTLek"
      },
      "execution_count": 45,
      "outputs": []
    },
    {
      "cell_type": "code",
      "source": [
        "msg\n",
        "#output of the f-str method"
      ],
      "metadata": {
        "colab": {
          "base_uri": "https://localhost:8080/",
          "height": 35
        },
        "id": "dDP0g0I_TUuf",
        "outputId": "c996614e-a590-466e-821b-91b73c08028c"
      },
      "execution_count": 46,
      "outputs": [
        {
          "output_type": "execute_result",
          "data": {
            "text/plain": [
              "'This individual product is 19.99'"
            ],
            "application/vnd.google.colaboratory.intrinsic+json": {
              "type": "string"
            }
          },
          "metadata": {},
          "execution_count": 46
        }
      ]
    },
    {
      "cell_type": "code",
      "source": [
        "msg2=f'The total for your purchase is {price*items}'\n",
        "#f-str works with multiple var and of dif types"
      ],
      "metadata": {
        "id": "NLx3QYFZTWM3"
      },
      "execution_count": 47,
      "outputs": []
    },
    {
      "cell_type": "code",
      "source": [
        "msg2\n",
        "#out of last"
      ],
      "metadata": {
        "colab": {
          "base_uri": "https://localhost:8080/",
          "height": 35
        },
        "id": "OGUna3EdTkkR",
        "outputId": "d7330142-73f8-47ea-9cae-6024fd1760d3"
      },
      "execution_count": 48,
      "outputs": [
        {
          "output_type": "execute_result",
          "data": {
            "text/plain": [
              "'The total for your purchase is 59.97'"
            ],
            "application/vnd.google.colaboratory.intrinsic+json": {
              "type": "string"
            }
          },
          "metadata": {},
          "execution_count": 48
        }
      ]
    },
    {
      "cell_type": "code",
      "source": [],
      "metadata": {
        "id": "IT17j66jTmA5"
      },
      "execution_count": null,
      "outputs": []
    }
  ]
}